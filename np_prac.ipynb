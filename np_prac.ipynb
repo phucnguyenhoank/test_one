{
 "cells": [
  {
   "cell_type": "markdown",
   "metadata": {},
   "source": [
    "## **Basic numpy syntaxes**"
   ]
  },
  {
   "cell_type": "code",
   "execution_count": 2,
   "metadata": {},
   "outputs": [],
   "source": [
    "import numpy as np"
   ]
  },
  {
   "cell_type": "markdown",
   "metadata": {},
   "source": [
    "#### **Information**"
   ]
  },
  {
   "cell_type": "code",
   "execution_count": 36,
   "metadata": {},
   "outputs": [],
   "source": [
    "def info(a, end=\"\\n------------------------\\n\"):\n",
    "    print(f'type={type(a)}')\n",
    "    print(f'size={a.size}')\n",
    "    print(f'shape={a.shape}')\n",
    "    print(a, end=end)"
   ]
  },
  {
   "cell_type": "markdown",
   "metadata": {},
   "source": [
    "**What a numpy array have?**\n",
    "- Attributes:\n",
    "    - ndim: number of dimensions\n",
    "    - size: number of elements\n",
    "    - shape: shape\n",
    "    - dtype: data type\n"
   ]
  },
  {
   "cell_type": "markdown",
   "metadata": {},
   "source": [
    "##### Create an array and print it"
   ]
  },
  {
   "cell_type": "code",
   "execution_count": 37,
   "metadata": {},
   "outputs": [
    {
     "name": "stdout",
     "output_type": "stream",
     "text": [
      "type=<class 'numpy.ndarray'>\n",
      "size=1\n",
      "shape=()\n",
      "1\n",
      "------------------------\n",
      "type=<class 'numpy.ndarray'>\n",
      "size=3\n",
      "shape=(3,)\n",
      "[1 2 3]\n",
      "------------------------\n",
      "type=<class 'numpy.ndarray'>\n",
      "size=6\n",
      "shape=(2, 3)\n",
      "[[1 2 3]\n",
      " [4 5 6]]\n",
      "------------------------\n",
      "type=<class 'numpy.ndarray'>\n",
      "size=12\n",
      "shape=(2, 2, 3)\n",
      "[[[ 1  2  3]\n",
      "  [ 4  5  6]]\n",
      "\n",
      " [[ 7  8  9]\n",
      "  [10 11 12]]]\n",
      "------------------------\n"
     ]
    }
   ],
   "source": [
    "# 0-D array\n",
    "arr = np.array(1)\n",
    "info(arr)\n",
    "\n",
    "# 1-D array\n",
    "arr = np.array([1, 2, 3])\n",
    "info(arr)\n",
    "\n",
    "# 2-D array\n",
    "arr = np.array([[1, 2, 3], [4, 5, 6]])\n",
    "info(arr)\n",
    "\n",
    "# 3-D array\n",
    "arr = np.array([[[1, 2, 3], [4, 5, 6]], [[7, 8, 9], [10, 11, 12]]])\n",
    "info(arr)\n",
    "\n"
   ]
  },
  {
   "cell_type": "markdown",
   "metadata": {},
   "source": [
    "##### Check Number of Dimensions"
   ]
  },
  {
   "cell_type": "code",
   "execution_count": 38,
   "metadata": {},
   "outputs": [
    {
     "name": "stdout",
     "output_type": "stream",
     "text": [
      "3\n"
     ]
    }
   ],
   "source": [
    "print(arr.ndim)"
   ]
  },
  {
   "cell_type": "markdown",
   "metadata": {},
   "source": [
    "#### **Indexing**\n",
    "- arr[index]\n",
    "- index can be negative or slicing"
   ]
  },
  {
   "cell_type": "code",
   "execution_count": 40,
   "metadata": {},
   "outputs": [
    {
     "name": "stdout",
     "output_type": "stream",
     "text": [
      "2\n",
      "4\n"
     ]
    }
   ],
   "source": [
    "# Get the second element\n",
    "arr = np.array([1, 2, 3, 4, 5, 6, 7, 8, 9])\n",
    "print(arr[1])\n",
    "\n",
    "\n",
    "# Get the element in 2-D array\n",
    "arr = np.array([[1, 2, 3], [4, 5, 6]])\n",
    "print(arr[1, 0])"
   ]
  },
  {
   "cell_type": "markdown",
   "metadata": {},
   "source": [
    "#### **Slicing**"
   ]
  },
  {
   "cell_type": "markdown",
   "metadata": {},
   "source": [
    "start:end:step\n",
    "- start: default is 0\n",
    "- end: excluded, default is the number of elements in the current dimensions\n",
    "- step: default is 1\n",
    "- can be negative number\n",
    "\n"
   ]
  },
  {
   "cell_type": "code",
   "execution_count": 43,
   "metadata": {},
   "outputs": [
    {
     "name": "stdout",
     "output_type": "stream",
     "text": [
      "[7 6 5]\n"
     ]
    }
   ],
   "source": [
    "arr = np.array([9, 8, 7, 6, 5, 4, 3, 2, 1])\n",
    "print(arr[2:5])\n"
   ]
  },
  {
   "cell_type": "code",
   "execution_count": null,
   "metadata": {},
   "outputs": [],
   "source": []
  }
 ],
 "metadata": {
  "kernelspec": {
   "display_name": ".venv",
   "language": "python",
   "name": "python3"
  },
  "language_info": {
   "codemirror_mode": {
    "name": "ipython",
    "version": 3
   },
   "file_extension": ".py",
   "mimetype": "text/x-python",
   "name": "python",
   "nbconvert_exporter": "python",
   "pygments_lexer": "ipython3",
   "version": "3.12.4"
  }
 },
 "nbformat": 4,
 "nbformat_minor": 2
}
